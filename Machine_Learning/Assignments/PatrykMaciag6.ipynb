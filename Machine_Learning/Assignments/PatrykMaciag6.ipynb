{
 "cells": [
  {
   "cell_type": "markdown",
   "metadata": {},
   "source": [
    "<a href=\"https://colab.research.google.com/github/marekpiotradamczyk/ml_uwr_23/blob/main/Assignments/Assignment6.ipynb\" target=\"_parent\"><img src=\"https://colab.research.google.com/assets/colab-badge.svg\" alt=\"Open In Colab\"/></a>"
   ]
  },
  {
   "cell_type": "markdown",
   "metadata": {
    "id": "6JGmPStV4yiw"
   },
   "source": [
    "# Lab Assignment 6"
   ]
  },
  {
   "cell_type": "markdown",
   "metadata": {
    "id": "aUenJ9L141My"
   },
   "source": [
    "**Submission deadline:**\n",
    "* **lab session in the week 15-19.1.24**\n",
    "\n",
    "**Points: 3 points**\n"
   ]
  },
  {
   "cell_type": "code",
   "execution_count": 1,
   "metadata": {
    "executionInfo": {
     "elapsed": 7112,
     "status": "ok",
     "timestamp": 1607007324154,
     "user": {
      "displayName": "Marek Adamczyk",
      "photoUrl": "",
      "userId": "05687012658676949428"
     },
     "user_tz": -60
    },
    "id": "a4TIgG0bwlpS"
   },
   "outputs": [],
   "source": [
    "# Standard IPython notebook imports\n",
    "%matplotlib inline\n",
    "\n",
    "import os\n",
    "from io import StringIO\n",
    "\n",
    "import httpimport\n",
    "import matplotlib.pyplot as plt\n",
    "import numpy as np\n",
    "import pandas as pd\n",
    "import scipy.stats as sstats\n",
    "import seaborn as sns\n",
    "import sklearn.tree\n",
    "from tqdm import tqdm_notebook\n",
    "\n",
    "\n"
   ]
  },
  {
   "cell_type": "code",
   "execution_count": 2,
   "metadata": {
    "executionInfo": {
     "elapsed": 13290,
     "status": "ok",
     "timestamp": 1607007330338,
     "user": {
      "displayName": "Marek Adamczyk",
      "photoUrl": "",
      "userId": "05687012658676949428"
     },
     "user_tz": -60
    },
    "id": "jVAFTS46MRdA"
   },
   "outputs": [],
   "source": [
    "# @title Data Loading\n",
    "# We will load a few commonly used datasets:\n",
    "# - mushroom\n",
    "\n",
    "\n",
    "# Mushroom dataset\n",
    "# https://archive.ics.uci.edu/ml/datasets/mushroom\n",
    "columns = [\n",
    "    \"target\",\n",
    "    \"cap-shape\",\n",
    "    \"cap-surface\",\n",
    "    \"cap-color\",\n",
    "    \"bruises?\",\n",
    "    \"odor\",\n",
    "    \"gill-attachment\",\n",
    "    \"gill-spacing\",\n",
    "    \"gill-size\",\n",
    "    \"gill-color\",\n",
    "    \"stalk-shape\",\n",
    "    \"stalk-root\",\n",
    "    \"stalk-surface-above-ring\",\n",
    "    \"stalk-surface-below-ring\",\n",
    "    \"stalk-color-above-ring\",\n",
    "    \"stalk-color-below-ring\",\n",
    "    \"veil-type\",\n",
    "    \"veil-color\",\n",
    "    \"ring-number\",\n",
    "    \"ring-type\",\n",
    "    \"spore-print-color\",\n",
    "    \"population\",\n",
    "    \"habitat\",\n",
    "]\n",
    "\n",
    "# Use read_csv to load the data.\n",
    "url = \"http://archive.ics.uci.edu/ml/machine-learning-databases/mushroom/agaricus-lepiota.data\"\n",
    "mushroom_df = pd.read_csv(url, header=None, names=columns)\n",
    "mushroom_idx_df = mushroom_df.reset_index()\n"
   ]
  },
  {
   "cell_type": "code",
   "execution_count": 3,
   "metadata": {},
   "outputs": [
    {
     "data": {
      "text/html": [
       "<div>\n",
       "<style scoped>\n",
       "    .dataframe tbody tr th:only-of-type {\n",
       "        vertical-align: middle;\n",
       "    }\n",
       "\n",
       "    .dataframe tbody tr th {\n",
       "        vertical-align: top;\n",
       "    }\n",
       "\n",
       "    .dataframe thead th {\n",
       "        text-align: right;\n",
       "    }\n",
       "</style>\n",
       "<table border=\"1\" class=\"dataframe\">\n",
       "  <thead>\n",
       "    <tr style=\"text-align: right;\">\n",
       "      <th></th>\n",
       "      <th>target</th>\n",
       "      <th>cap-shape</th>\n",
       "      <th>cap-surface</th>\n",
       "      <th>cap-color</th>\n",
       "      <th>bruises?</th>\n",
       "      <th>odor</th>\n",
       "      <th>gill-attachment</th>\n",
       "      <th>gill-spacing</th>\n",
       "      <th>gill-size</th>\n",
       "      <th>gill-color</th>\n",
       "      <th>...</th>\n",
       "      <th>stalk-surface-below-ring</th>\n",
       "      <th>stalk-color-above-ring</th>\n",
       "      <th>stalk-color-below-ring</th>\n",
       "      <th>veil-type</th>\n",
       "      <th>veil-color</th>\n",
       "      <th>ring-number</th>\n",
       "      <th>ring-type</th>\n",
       "      <th>spore-print-color</th>\n",
       "      <th>population</th>\n",
       "      <th>habitat</th>\n",
       "    </tr>\n",
       "  </thead>\n",
       "  <tbody>\n",
       "    <tr>\n",
       "      <th>0</th>\n",
       "      <td>p</td>\n",
       "      <td>x</td>\n",
       "      <td>s</td>\n",
       "      <td>n</td>\n",
       "      <td>t</td>\n",
       "      <td>p</td>\n",
       "      <td>f</td>\n",
       "      <td>c</td>\n",
       "      <td>n</td>\n",
       "      <td>k</td>\n",
       "      <td>...</td>\n",
       "      <td>s</td>\n",
       "      <td>w</td>\n",
       "      <td>w</td>\n",
       "      <td>p</td>\n",
       "      <td>w</td>\n",
       "      <td>o</td>\n",
       "      <td>p</td>\n",
       "      <td>k</td>\n",
       "      <td>s</td>\n",
       "      <td>u</td>\n",
       "    </tr>\n",
       "    <tr>\n",
       "      <th>1</th>\n",
       "      <td>e</td>\n",
       "      <td>x</td>\n",
       "      <td>s</td>\n",
       "      <td>y</td>\n",
       "      <td>t</td>\n",
       "      <td>a</td>\n",
       "      <td>f</td>\n",
       "      <td>c</td>\n",
       "      <td>b</td>\n",
       "      <td>k</td>\n",
       "      <td>...</td>\n",
       "      <td>s</td>\n",
       "      <td>w</td>\n",
       "      <td>w</td>\n",
       "      <td>p</td>\n",
       "      <td>w</td>\n",
       "      <td>o</td>\n",
       "      <td>p</td>\n",
       "      <td>n</td>\n",
       "      <td>n</td>\n",
       "      <td>g</td>\n",
       "    </tr>\n",
       "    <tr>\n",
       "      <th>2</th>\n",
       "      <td>e</td>\n",
       "      <td>b</td>\n",
       "      <td>s</td>\n",
       "      <td>w</td>\n",
       "      <td>t</td>\n",
       "      <td>l</td>\n",
       "      <td>f</td>\n",
       "      <td>c</td>\n",
       "      <td>b</td>\n",
       "      <td>n</td>\n",
       "      <td>...</td>\n",
       "      <td>s</td>\n",
       "      <td>w</td>\n",
       "      <td>w</td>\n",
       "      <td>p</td>\n",
       "      <td>w</td>\n",
       "      <td>o</td>\n",
       "      <td>p</td>\n",
       "      <td>n</td>\n",
       "      <td>n</td>\n",
       "      <td>m</td>\n",
       "    </tr>\n",
       "    <tr>\n",
       "      <th>3</th>\n",
       "      <td>p</td>\n",
       "      <td>x</td>\n",
       "      <td>y</td>\n",
       "      <td>w</td>\n",
       "      <td>t</td>\n",
       "      <td>p</td>\n",
       "      <td>f</td>\n",
       "      <td>c</td>\n",
       "      <td>n</td>\n",
       "      <td>n</td>\n",
       "      <td>...</td>\n",
       "      <td>s</td>\n",
       "      <td>w</td>\n",
       "      <td>w</td>\n",
       "      <td>p</td>\n",
       "      <td>w</td>\n",
       "      <td>o</td>\n",
       "      <td>p</td>\n",
       "      <td>k</td>\n",
       "      <td>s</td>\n",
       "      <td>u</td>\n",
       "    </tr>\n",
       "    <tr>\n",
       "      <th>4</th>\n",
       "      <td>e</td>\n",
       "      <td>x</td>\n",
       "      <td>s</td>\n",
       "      <td>g</td>\n",
       "      <td>f</td>\n",
       "      <td>n</td>\n",
       "      <td>f</td>\n",
       "      <td>w</td>\n",
       "      <td>b</td>\n",
       "      <td>k</td>\n",
       "      <td>...</td>\n",
       "      <td>s</td>\n",
       "      <td>w</td>\n",
       "      <td>w</td>\n",
       "      <td>p</td>\n",
       "      <td>w</td>\n",
       "      <td>o</td>\n",
       "      <td>e</td>\n",
       "      <td>n</td>\n",
       "      <td>a</td>\n",
       "      <td>g</td>\n",
       "    </tr>\n",
       "  </tbody>\n",
       "</table>\n",
       "<p>5 rows × 23 columns</p>\n",
       "</div>"
      ],
      "text/plain": [
       "  target cap-shape cap-surface cap-color bruises? odor gill-attachment  \\\n",
       "0      p         x           s         n        t    p               f   \n",
       "1      e         x           s         y        t    a               f   \n",
       "2      e         b           s         w        t    l               f   \n",
       "3      p         x           y         w        t    p               f   \n",
       "4      e         x           s         g        f    n               f   \n",
       "\n",
       "  gill-spacing gill-size gill-color  ... stalk-surface-below-ring  \\\n",
       "0            c         n          k  ...                        s   \n",
       "1            c         b          k  ...                        s   \n",
       "2            c         b          n  ...                        s   \n",
       "3            c         n          n  ...                        s   \n",
       "4            w         b          k  ...                        s   \n",
       "\n",
       "  stalk-color-above-ring stalk-color-below-ring veil-type veil-color  \\\n",
       "0                      w                      w         p          w   \n",
       "1                      w                      w         p          w   \n",
       "2                      w                      w         p          w   \n",
       "3                      w                      w         p          w   \n",
       "4                      w                      w         p          w   \n",
       "\n",
       "  ring-number ring-type spore-print-color population habitat  \n",
       "0           o         p                 k          s       u  \n",
       "1           o         p                 n          n       g  \n",
       "2           o         p                 n          n       m  \n",
       "3           o         p                 k          s       u  \n",
       "4           o         e                 n          a       g  \n",
       "\n",
       "[5 rows x 23 columns]"
      ]
     },
     "execution_count": 3,
     "metadata": {},
     "output_type": "execute_result"
    }
   ],
   "source": [
    "mushroom_df.head()"
   ]
  },
  {
   "cell_type": "markdown",
   "metadata": {
    "id": "r7YoGCAiA0jA"
   },
   "source": [
    "# Problem 1: Entropy [3p] \n"
   ]
  },
  {
   "cell_type": "markdown",
   "metadata": {
    "id": "yzwGKVgD2pa5"
   },
   "source": [
    "### Implement entropy [1p]\n",
    "\n",
    "Implement the function `entropy` to compute the entropy of a column of the dataset.\n",
    "\n",
    "The [entropy](https://en.wikipedia.org/wiki/Entropy_(information_theory)) of a discrete variable is defined to be:\n",
    "\n",
    "$$H(X) = -\\sum_x p_X(x) \\log_2 p_X(x).$$\n",
    "\n",
    "A good in tutorial is given by Chris Olah: https://colah.github.io/posts/2015-09-Visual-Information/.\n",
    "\n",
    "\n",
    "When $X$ is a discrete random variable, we can estimate the probabilities with counts:\n",
    "\n",
    "$$p_X(x) = \\frac{\\text{number of instances where }X=x}{\\text{total number of instances}}.$$\n",
    "\n",
    "\n",
    "Hint: the following `pandas` functions may be useful:\n",
    "- `count`\n",
    "- `value_counts`\n",
    "\n",
    "Then use the dataframe's `apply` function to compute the entropy of all columns."
   ]
  },
  {
   "cell_type": "code",
   "execution_count": 16,
   "metadata": {
    "colab": {
     "base_uri": "https://localhost:8080/"
    },
    "executionInfo": {
     "elapsed": 13280,
     "status": "ok",
     "timestamp": 1607007330342,
     "user": {
      "displayName": "Marek Adamczyk",
      "photoUrl": "",
      "userId": "05687012658676949428"
     },
     "user_tz": -60
    },
    "id": "om2RJ5EDx9ev",
    "outputId": "84751d66-2aa4-4a51-dea9-156b1c2d9f61"
   },
   "outputs": [
    {
     "data": {
      "text/plain": [
       "target                      0.999068\n",
       "cap-shape                   1.652889\n",
       "cap-surface                 1.575486\n",
       "cap-color                   2.510143\n",
       "bruises?                    0.979327\n",
       "odor                        2.319414\n",
       "gill-attachment             0.173129\n",
       "gill-spacing                0.637878\n",
       "gill-size                   0.892256\n",
       "gill-color                  3.030433\n",
       "stalk-shape                 0.986927\n",
       "stalk-root                  1.822922\n",
       "stalk-surface-above-ring    1.221348\n",
       "stalk-surface-below-ring    1.399135\n",
       "stalk-color-above-ring      1.936809\n",
       "stalk-color-below-ring      1.978163\n",
       "veil-type                  -0.000000\n",
       "veil-color                  0.196238\n",
       "ring-number                 0.420680\n",
       "ring-type                   1.535121\n",
       "spore-print-color           2.203227\n",
       "population                  2.003398\n",
       "habitat                     2.274747\n",
       "dtype: float64"
      ]
     },
     "execution_count": 16,
     "metadata": {},
     "output_type": "execute_result"
    }
   ],
   "source": [
    "def entropy(y):\n",
    "    #y is pandas.Series\n",
    "    #TODO put your code here\n",
    "    probabilities = y.value_counts() / len(y)\n",
    "    entropy = -np.sum(probabilities * np.log2(probabilities))\n",
    "    return entropy\n",
    "\n",
    "mushroom_df.apply(entropy, axis=0)"
   ]
  },
  {
   "cell_type": "markdown",
   "metadata": {},
   "source": [
    "### Conditional Entropy [1p]"
   ]
  },
  {
   "cell_type": "markdown",
   "metadata": {},
   "source": [
    "Consider the following dataset:"
   ]
  },
  {
   "cell_type": "code",
   "execution_count": 5,
   "metadata": {},
   "outputs": [
    {
     "data": {
      "text/html": [
       "<div>\n",
       "<style scoped>\n",
       "    .dataframe tbody tr th:only-of-type {\n",
       "        vertical-align: middle;\n",
       "    }\n",
       "\n",
       "    .dataframe tbody tr th {\n",
       "        vertical-align: top;\n",
       "    }\n",
       "\n",
       "    .dataframe thead th {\n",
       "        text-align: right;\n",
       "    }\n",
       "</style>\n",
       "<table border=\"1\" class=\"dataframe\">\n",
       "  <thead>\n",
       "    <tr style=\"text-align: right;\">\n",
       "      <th></th>\n",
       "      <th>x1</th>\n",
       "      <th>x2</th>\n",
       "      <th>x3</th>\n",
       "      <th>y</th>\n",
       "    </tr>\n",
       "  </thead>\n",
       "  <tbody>\n",
       "    <tr>\n",
       "      <th>0</th>\n",
       "      <td>0</td>\n",
       "      <td>1</td>\n",
       "      <td>0</td>\n",
       "      <td>1</td>\n",
       "    </tr>\n",
       "    <tr>\n",
       "      <th>1</th>\n",
       "      <td>1</td>\n",
       "      <td>0</td>\n",
       "      <td>0</td>\n",
       "      <td>0</td>\n",
       "    </tr>\n",
       "    <tr>\n",
       "      <th>2</th>\n",
       "      <td>1</td>\n",
       "      <td>1</td>\n",
       "      <td>1</td>\n",
       "      <td>1</td>\n",
       "    </tr>\n",
       "    <tr>\n",
       "      <th>3</th>\n",
       "      <td>0</td>\n",
       "      <td>0</td>\n",
       "      <td>0</td>\n",
       "      <td>0</td>\n",
       "    </tr>\n",
       "    <tr>\n",
       "      <th>4</th>\n",
       "      <td>1</td>\n",
       "      <td>0</td>\n",
       "      <td>0</td>\n",
       "      <td>0</td>\n",
       "    </tr>\n",
       "    <tr>\n",
       "      <th>5</th>\n",
       "      <td>1</td>\n",
       "      <td>1</td>\n",
       "      <td>1</td>\n",
       "      <td>1</td>\n",
       "    </tr>\n",
       "    <tr>\n",
       "      <th>6</th>\n",
       "      <td>1</td>\n",
       "      <td>0</td>\n",
       "      <td>0</td>\n",
       "      <td>0</td>\n",
       "    </tr>\n",
       "    <tr>\n",
       "      <th>7</th>\n",
       "      <td>1</td>\n",
       "      <td>1</td>\n",
       "      <td>1</td>\n",
       "      <td>1</td>\n",
       "    </tr>\n",
       "    <tr>\n",
       "      <th>8</th>\n",
       "      <td>1</td>\n",
       "      <td>1</td>\n",
       "      <td>1</td>\n",
       "      <td>1</td>\n",
       "    </tr>\n",
       "    <tr>\n",
       "      <th>9</th>\n",
       "      <td>0</td>\n",
       "      <td>0</td>\n",
       "      <td>0</td>\n",
       "      <td>0</td>\n",
       "    </tr>\n",
       "  </tbody>\n",
       "</table>\n",
       "</div>"
      ],
      "text/plain": [
       "   x1  x2  x3  y\n",
       "0   0   1   0  1\n",
       "1   1   0   0  0\n",
       "2   1   1   1  1\n",
       "3   0   0   0  0\n",
       "4   1   0   0  0\n",
       "5   1   1   1  1\n",
       "6   1   0   0  0\n",
       "7   1   1   1  1\n",
       "8   1   1   1  1\n",
       "9   0   0   0  0"
      ]
     },
     "execution_count": 5,
     "metadata": {},
     "output_type": "execute_result"
    }
   ],
   "source": [
    "num_rows=10000\n",
    "x1 = np.random.randint(0, 2, size=num_rows)\n",
    "x2 = np.random.randint(0, 2, size=num_rows)\n",
    "\n",
    "# y is equal to x2\n",
    "y = x2.copy()\n",
    "\n",
    "# Generating x3 based on specified probabilities\n",
    "x3 = np.array([np.random.choice([0, 1], p=[0.1, 0.9]) if y_i == 1 else np.random.choice([0, 1], p=[0.9, 0.1]) for y_i in y])\n",
    "\n",
    "# Creating the DataFrame\n",
    "bits_df = pd.DataFrame({'x1': x1, 'x2': x2, 'x3': x3, 'y': y, })\n",
    "bits_df.head(10)"
   ]
  },
  {
   "cell_type": "markdown",
   "metadata": {},
   "source": [
    "When you look at each column $c$ separately, then every single cell at row $r$ of it has a random bit where $\\mathcal{P}[x^{(c)}_r = 0] = \\mathcal{P}[x^{(c)}_r = 1] = 0.5$. Hence entropy of each column is roughly 1:"
   ]
  },
  {
   "cell_type": "code",
   "execution_count": 6,
   "metadata": {},
   "outputs": [
    {
     "data": {
      "text/plain": [
       "x1    0.999999\n",
       "x2    0.999976\n",
       "x3    0.999994\n",
       "y     0.999976\n",
       "dtype: float64"
      ]
     },
     "execution_count": 6,
     "metadata": {},
     "output_type": "execute_result"
    }
   ],
   "source": [
    "bits_df.apply(entropy)"
   ]
  },
  {
   "cell_type": "markdown",
   "metadata": {},
   "source": [
    "However, $x1$ is independent of $y$, while $x2$ is equal to $y$. Since entropy measures information, we should be able to say that when we know the value of $y$ --- and more precisely $y_i$ ---, then we have no additional information about $x1$ and we have full information about $x2$. And additionally we should be able to move smoothly between this spectrum by saying that there is some partial information about $x3$, since $x3$ is created conditionally given $y$.\n",
    "And this is where the notion of conditional entropy naturally comes."
   ]
  },
  {
   "cell_type": "markdown",
   "metadata": {
    "id": "1hJ_NNX85M2w"
   },
   "source": [
    "**Task:** Implement the conditional entropy computation\n",
    "\n",
    "$$H(X|Y) = \\sum_y p_Y(y) H(X|y) = \\sum_y p_Y(y) \\sum_x p_X(x|y) \\log_2 p_X(x|y)$$\n",
    "\n",
    "\n"
   ]
  },
  {
   "cell_type": "code",
   "execution_count": 7,
   "metadata": {},
   "outputs": [],
   "source": [
    "def conditional_entropy(x, y):\n",
    "    #TODO put your code here\n",
    "    conditional_entropy = 0\n",
    "    \n",
    "    y_unique = y.unique()\n",
    "    for y_value in y_unique:\n",
    "        p_y = np.sum(y == y_value) / len(y)\n",
    "        conditional_entropy += p_y * entropy(x[y == y_value])\n",
    "    \n",
    "    return conditional_entropy"
   ]
  },
  {
   "cell_type": "code",
   "execution_count": 8,
   "metadata": {},
   "outputs": [
    {
     "name": "stdout",
     "output_type": "stream",
     "text": [
      "x1 0.9999\n",
      "x2 0.0\n",
      "x3 0.4693\n"
     ]
    }
   ],
   "source": [
    "for c in ['x1','x2','x3']:\n",
    "    print(c, conditional_entropy(bits_df[c], bits_df['y']).round(4))"
   ]
  },
  {
   "cell_type": "markdown",
   "metadata": {
    "colab": {
     "base_uri": "https://localhost:8080/"
    },
    "executionInfo": {
     "elapsed": 13675,
     "status": "ok",
     "timestamp": 1607007330746,
     "user": {
      "displayName": "Marek Adamczyk",
      "photoUrl": "",
      "userId": "05687012658676949428"
     },
     "user_tz": -60
    },
    "id": "DVJwv7AvzFsH",
    "outputId": "45ba72fe-10c8-4da6-87fb-ec04f3efa121"
   },
   "source": [
    "## Mutual Information [1p]"
   ]
  },
  {
   "cell_type": "markdown",
   "metadata": {},
   "source": [
    "Entropy can be applied on vector random variables. It means that if we have have two random variables $X$ and $Y$ both with values from $\\mathcal{R}$, we can consider a two dimensional variable $(X,Y)$ values of which belong to $\\mathbb{R}^2$. Beautiful thing about entropy is that the formula for calculating entropy of $(X,Y)$ is exactly the same. More precisely:\n",
    "\n",
    "$$p_{(X,Y)}(x, y) = \\frac{\\text{number of instances where }(X,Y)=(x,y)}{\\text{total number of instances}}.$$\n",
    "\n",
    "\n",
    "And once we know it, we can introduce the notion of Mututal Information which is defined as $H(X,Y) - H(X|Y) - H(Y|X)$."
   ]
  },
  {
   "cell_type": "code",
   "execution_count": 9,
   "metadata": {},
   "outputs": [],
   "source": [
    "def mutual_information(X, Y):\n",
    "    #TODO implement mutual information using the formula H(X,Y) - H(X|Y) - H(Y|X)\n",
    "    mut_info = entropy(X) + conditional_entropy(Y, X) - conditional_entropy(X, Y) - conditional_entropy(Y, X)\n",
    "    return mut_info"
   ]
  },
  {
   "cell_type": "markdown",
   "metadata": {},
   "source": [
    "Complementary to conditional entropy, we can measure how much information is in both column, i.e., random variables:"
   ]
  },
  {
   "cell_type": "code",
   "execution_count": 10,
   "metadata": {},
   "outputs": [
    {
     "name": "stdout",
     "output_type": "stream",
     "text": [
      "x1 0.0001\n",
      "x2 1.0\n",
      "x3 0.5307\n"
     ]
    }
   ],
   "source": [
    "for c in ['x1','x2','x3']:\n",
    "    print(c, mutual_information(bits_df[c], bits_df['y']).round(4))"
   ]
  },
  {
   "cell_type": "markdown",
   "metadata": {},
   "source": [
    "Makes sense."
   ]
  },
  {
   "cell_type": "markdown",
   "metadata": {},
   "source": [
    "## Mutual information and classification"
   ]
  },
  {
   "cell_type": "code",
   "execution_count": 11,
   "metadata": {},
   "outputs": [
    {
     "name": "stdout",
     "output_type": "stream",
     "text": [
      "target                   :\t 0.999\n",
      "cap-shape                :\t 0.049\n",
      "cap-surface              :\t 0.029\n",
      "cap-color                :\t 0.036\n",
      "bruises?                 :\t 0.192\n",
      "odor                     :\t 0.906\n",
      "gill-attachment          :\t 0.014\n",
      "gill-spacing             :\t 0.101\n",
      "gill-size                :\t 0.23\n",
      "gill-color               :\t 0.417\n",
      "stalk-shape              :\t 0.008\n",
      "stalk-root               :\t 0.135\n",
      "stalk-surface-above-ring :\t 0.285\n",
      "stalk-surface-below-ring :\t 0.272\n",
      "stalk-color-above-ring   :\t 0.254\n",
      "stalk-color-below-ring   :\t 0.241\n",
      "veil-type                :\t 0.0\n",
      "veil-color               :\t 0.024\n",
      "ring-number              :\t 0.038\n",
      "ring-type                :\t 0.318\n",
      "spore-print-color        :\t 0.481\n",
      "population               :\t 0.202\n",
      "habitat                  :\t 0.157\n"
     ]
    }
   ],
   "source": [
    "mutinfsort = []\n",
    "for cname in mushroom_df.columns:\n",
    "    mutinfsort.append( (mutual_information(mushroom_df['target'], mushroom_df[cname]), cname))\n",
    "    print(f\"{cname.ljust(25)}:\\t {mutual_information(mushroom_df['target'], mushroom_df[cname]).round(decimals=3)}\")"
   ]
  },
  {
   "cell_type": "markdown",
   "metadata": {},
   "source": [
    "We can see from the above listing that the features that share the most information with the target are \"odor\" (0.906), \"spore-print-color\" (0.481), and \"gill-color\" (0.417). This already can indicate which columns have the biggest potential for being useful in classification:"
   ]
  },
  {
   "cell_type": "code",
   "execution_count": 12,
   "metadata": {},
   "outputs": [
    {
     "name": "stdout",
     "output_type": "stream",
     "text": [
      "veil-type                accuracy: 0.519 vs mut-inf: 0.0\n",
      "stalk-shape              accuracy: 0.559 vs mut-inf: 0.008\n",
      "gill-attachment          accuracy: 0.519 vs mut-inf: 0.014\n",
      "veil-color               accuracy: 0.519 vs mut-inf: 0.024\n",
      "cap-surface              accuracy: 0.578 vs mut-inf: 0.029\n",
      "cap-color                accuracy: 0.597 vs mut-inf: 0.036\n",
      "ring-number              accuracy: 0.53  vs mut-inf: 0.038\n",
      "cap-shape                accuracy: 0.561 vs mut-inf: 0.049\n",
      "gill-spacing             accuracy: 0.62  vs mut-inf: 0.101\n",
      "stalk-root               accuracy: 0.645 vs mut-inf: 0.135\n",
      "habitat                  accuracy: 0.675 vs mut-inf: 0.157\n",
      "bruises?                 accuracy: 0.737 vs mut-inf: 0.192\n",
      "population               accuracy: 0.713 vs mut-inf: 0.202\n",
      "gill-size                accuracy: 0.741 vs mut-inf: 0.23\n",
      "stalk-color-below-ring   accuracy: 0.706 vs mut-inf: 0.241\n",
      "stalk-color-above-ring   accuracy: 0.716 vs mut-inf: 0.254\n",
      "stalk-surface-below-ring accuracy: 0.758 vs mut-inf: 0.272\n",
      "stalk-surface-above-ring accuracy: 0.762 vs mut-inf: 0.285\n",
      "ring-type                accuracy: 0.78  vs mut-inf: 0.318\n",
      "gill-color               accuracy: 0.81  vs mut-inf: 0.417\n",
      "spore-print-color        accuracy: 0.871 vs mut-inf: 0.481\n",
      "odor                     accuracy: 0.985 vs mut-inf: 0.906\n",
      "target                   accuracy: 1.0   vs mut-inf: 0.999\n"
     ]
    }
   ],
   "source": [
    "\n",
    "from sklearn.model_selection import train_test_split\n",
    "from sklearn.tree import DecisionTreeClassifier\n",
    "from sklearn.metrics import accuracy_score\n",
    "from sklearn.preprocessing import LabelEncoder\n",
    "import pandas as pd\n",
    "\n",
    "# Assuming mushroom_df is your DataFrame\n",
    "# Convert categorical variables using label encoding\n",
    "label_encoder = LabelEncoder()\n",
    "mushroom_df_encoded = mushroom_df.apply(label_encoder.fit_transform)\n",
    "\n",
    "mutinfsort.sort()\n",
    "for mutinf, column in mutinfsort:\n",
    "    # Split the dataset into a feature and target variable\n",
    "    X = mushroom_df_encoded[[column]] #ONLY ONE COLUMN IS USED IN THE TRAINING\n",
    "    y = mushroom_df_encoded['target']\n",
    "    \n",
    "    # Splitting the dataset into training and test sets\n",
    "    X_train, X_test, y_train, y_test = train_test_split(X, y, test_size=0.2, random_state=42)\n",
    "    \n",
    "    # Creating and training the Decision Tree classifier\n",
    "    classifier = DecisionTreeClassifier()\n",
    "    classifier.fit(X_train, y_train)\n",
    "    \n",
    "    # Making predictions on the test set\n",
    "    y_pred = classifier.predict(X_test)\n",
    "    \n",
    "    # Calculating the accuracy\n",
    "    accuracy = accuracy_score(y_test, y_pred)\n",
    "    print(f'{column.ljust(24)} accuracy: {str(accuracy.round(3)).ljust(6)}vs mut-inf: {mutinf.round(3)}')\n",
    "    \n"
   ]
  },
  {
   "cell_type": "markdown",
   "metadata": {},
   "source": [
    "Just as expected."
   ]
  },
  {
   "cell_type": "markdown",
   "metadata": {},
   "source": [
    "## Correlation vs mutual information"
   ]
  },
  {
   "cell_type": "markdown",
   "metadata": {},
   "source": [
    "Have a look here:"
   ]
  },
  {
   "cell_type": "code",
   "execution_count": 13,
   "metadata": {},
   "outputs": [
    {
     "data": {
      "text/html": [
       "<div>\n",
       "<style scoped>\n",
       "    .dataframe tbody tr th:only-of-type {\n",
       "        vertical-align: middle;\n",
       "    }\n",
       "\n",
       "    .dataframe tbody tr th {\n",
       "        vertical-align: top;\n",
       "    }\n",
       "\n",
       "    .dataframe thead th {\n",
       "        text-align: right;\n",
       "    }\n",
       "</style>\n",
       "<table border=\"1\" class=\"dataframe\">\n",
       "  <thead>\n",
       "    <tr style=\"text-align: right;\">\n",
       "      <th></th>\n",
       "      <th>x1</th>\n",
       "      <th>x2</th>\n",
       "      <th>x3</th>\n",
       "      <th>y</th>\n",
       "    </tr>\n",
       "  </thead>\n",
       "  <tbody>\n",
       "    <tr>\n",
       "      <th>x1</th>\n",
       "      <td>1.000000</td>\n",
       "      <td>-0.009387</td>\n",
       "      <td>-0.005183</td>\n",
       "      <td>-0.009387</td>\n",
       "    </tr>\n",
       "    <tr>\n",
       "      <th>x2</th>\n",
       "      <td>-0.009387</td>\n",
       "      <td>1.000000</td>\n",
       "      <td>0.799796</td>\n",
       "      <td>1.000000</td>\n",
       "    </tr>\n",
       "    <tr>\n",
       "      <th>x3</th>\n",
       "      <td>-0.005183</td>\n",
       "      <td>0.799796</td>\n",
       "      <td>1.000000</td>\n",
       "      <td>0.799796</td>\n",
       "    </tr>\n",
       "    <tr>\n",
       "      <th>y</th>\n",
       "      <td>-0.009387</td>\n",
       "      <td>1.000000</td>\n",
       "      <td>0.799796</td>\n",
       "      <td>1.000000</td>\n",
       "    </tr>\n",
       "  </tbody>\n",
       "</table>\n",
       "</div>"
      ],
      "text/plain": [
       "          x1        x2        x3         y\n",
       "x1  1.000000 -0.009387 -0.005183 -0.009387\n",
       "x2 -0.009387  1.000000  0.799796  1.000000\n",
       "x3 -0.005183  0.799796  1.000000  0.799796\n",
       "y  -0.009387  1.000000  0.799796  1.000000"
      ]
     },
     "execution_count": 13,
     "metadata": {},
     "output_type": "execute_result"
    }
   ],
   "source": [
    "bits_df.corr()"
   ]
  },
  {
   "cell_type": "markdown",
   "metadata": {},
   "source": [
    "The above correlation matrix makes sense:\n",
    "- $x1$ and $y$ are independent, hence correlation is 0\n",
    "- $x2$ and $y$ are identical, hence correlation is 1\n",
    "- $x3$ depends heavily on $y$, hence correlation is high and $\\approx 0.8$"
   ]
  },
  {
   "cell_type": "markdown",
   "metadata": {},
   "source": [
    "However, correlation sometimes doesn't cut it.\n",
    "There are very natural cases when correlation of two random variables is very low (in the example below it's actually a perfect 0), even though they may be incredibly dependent. It turns out that zero correlation only tells us whether two random variables do not have any linear relationship between them."
   ]
  },
  {
   "cell_type": "code",
   "execution_count": 14,
   "metadata": {},
   "outputs": [
    {
     "data": {
      "text/html": [
       "<div>\n",
       "<style scoped>\n",
       "    .dataframe tbody tr th:only-of-type {\n",
       "        vertical-align: middle;\n",
       "    }\n",
       "\n",
       "    .dataframe tbody tr th {\n",
       "        vertical-align: top;\n",
       "    }\n",
       "\n",
       "    .dataframe thead th {\n",
       "        text-align: right;\n",
       "    }\n",
       "</style>\n",
       "<table border=\"1\" class=\"dataframe\">\n",
       "  <thead>\n",
       "    <tr style=\"text-align: right;\">\n",
       "      <th></th>\n",
       "      <th>x</th>\n",
       "      <th>|x|</th>\n",
       "    </tr>\n",
       "  </thead>\n",
       "  <tbody>\n",
       "    <tr>\n",
       "      <th>-1.0</th>\n",
       "      <td>-1.0</td>\n",
       "      <td>1.0</td>\n",
       "    </tr>\n",
       "    <tr>\n",
       "      <th>0.0</th>\n",
       "      <td>0.0</td>\n",
       "      <td>0.0</td>\n",
       "    </tr>\n",
       "    <tr>\n",
       "      <th>1.0</th>\n",
       "      <td>1.0</td>\n",
       "      <td>1.0</td>\n",
       "    </tr>\n",
       "  </tbody>\n",
       "</table>\n",
       "</div>"
      ],
      "text/plain": [
       "        x  |x|\n",
       "-1.0 -1.0  1.0\n",
       " 0.0  0.0  0.0\n",
       " 1.0  1.0  1.0"
      ]
     },
     "execution_count": 14,
     "metadata": {},
     "output_type": "execute_result"
    },
    {
     "data": {
      "image/png": "[encoded data removed]",
      "text/plain": [
       "<Figure size 640x480 with 1 Axes>"
      ]
     },
     "metadata": {},
     "output_type": "display_data"
    }
   ],
   "source": [
    "df = pd.DataFrame(index=np.linspace(-1,1,3))\n",
    "df['x'] = df.index\n",
    "df['|x|'] = np.abs(df['x'])\n",
    "df.plot()\n",
    "df"
   ]
  },
  {
   "cell_type": "markdown",
   "metadata": {},
   "source": [
    "Correlation (and covariance) of random variables X and |X| is 0."
   ]
  },
  {
   "cell_type": "code",
   "execution_count": 15,
   "metadata": {},
   "outputs": [
    {
     "data": {
      "text/plain": [
       "0.0"
      ]
     },
     "execution_count": 15,
     "metadata": {},
     "output_type": "execute_result"
    }
   ],
   "source": [
    "df['x'].dot(df['|x|'])"
   ]
  },
  {
   "cell_type": "markdown",
   "metadata": {},
   "source": [
    "However, they are very dependent, since knowing $x$ immediately tells us what the value of $|x|$ is. \n",
    "And this actually can be seen by looking at the conditional entropy of $H(|X|\\ | X)$ the variables."
   ]
  },
  {
   "cell_type": "code",
   "execution_count": 16,
   "metadata": {},
   "outputs": [
    {
     "data": {
      "text/plain": [
       "0.0"
      ]
     },
     "execution_count": 16,
     "metadata": {},
     "output_type": "execute_result"
    }
   ],
   "source": [
    "conditional_entropy(df[\"|x|\"], df[\"x\"]).round(decimals=9)"
   ]
  },
  {
   "cell_type": "markdown",
   "metadata": {},
   "source": [
    "The above result clearly implements our intuition --- once we know $x$, there's no uncertainty left about $|x|$."
   ]
  },
  {
   "cell_type": "markdown",
   "metadata": {},
   "source": [
    "What about the reverse conditioning?"
   ]
  },
  {
   "cell_type": "code",
   "execution_count": 17,
   "metadata": {},
   "outputs": [
    {
     "data": {
      "text/plain": [
       "(1.58496, 1.58496)"
      ]
     },
     "execution_count": 17,
     "metadata": {},
     "output_type": "execute_result"
    }
   ],
   "source": [
    "entropy(df['x']).round(5), np.log2(3).round(5)"
   ]
  },
  {
   "cell_type": "code",
   "execution_count": 18,
   "metadata": {},
   "outputs": [
    {
     "data": {
      "text/plain": [
       "(0.9183, 0.9183)"
      ]
     },
     "execution_count": 18,
     "metadata": {},
     "output_type": "execute_result"
    }
   ],
   "source": [
    "entropy(df['|x|']).round(5), ((1/3)*np.log2(3) + (2/3)*np.log2(3/2)).round(5)"
   ]
  },
  {
   "cell_type": "code",
   "execution_count": 19,
   "metadata": {},
   "outputs": [
    {
     "data": {
      "text/plain": [
       "0.66667"
      ]
     },
     "execution_count": 19,
     "metadata": {},
     "output_type": "execute_result"
    }
   ],
   "source": [
    "conditional_entropy(df[\"x\"], df[\"|x|\"]).round(5)"
   ]
  },
  {
   "cell_type": "markdown",
   "metadata": {},
   "source": [
    "This result has a natural intepretation: 1 cases out of 3 the $|x|$ is zero in which case we know what $x$ is, so in this case the entropy is $0$, cause there's no uncertainty left. 2 cases out of 3 we have $|x| = 1$, in which case the uncertainty which remains is the probability distribution of the sign. The probability distribution of the sign is just $P(\\mbox{sign is }+) = 1/2 = P(\\mbox{sign is }-)$ and its entropy is $-\\left(\\frac{1}{2}\\log(1/2) + \\frac{1}{2}\\log(1/2)\\right)=1$. Hence the total conditional entropy is $\\frac{2}{3}$."
   ]
  },
  {
   "cell_type": "markdown",
   "metadata": {},
   "source": [
    "At the end let us look at the actual mutual information based on what we already saw."
   ]
  },
  {
   "cell_type": "code",
   "execution_count": 20,
   "metadata": {},
   "outputs": [
    {
     "data": {
      "text/plain": [
       "(0.9183, 0.9183)"
      ]
     },
     "execution_count": 20,
     "metadata": {},
     "output_type": "execute_result"
    }
   ],
   "source": [
    "mutual_information(df['x'], df['|x|']).round(5), ((1/3)*np.log2(3) + (2/3)*np.log2(3/2)).round(5)"
   ]
  },
  {
   "cell_type": "markdown",
   "metadata": {},
   "source": [
    "Makes sense, right?"
   ]
  }
 ],
 "metadata": {
  "colab": {
   "collapsed_sections": [],
   "name": "Assignment3_solutions.ipynb",
   "provenance": [],
   "toc_visible": true
  },
  "kernelspec": {
   "display_name": "Python 3 (ipykernel)",
   "language": "python",
   "name": "python3"
  },
  "language_info": {
   "codemirror_mode": {
    "name": "ipython",
    "version": 3
   },
   "file_extension": ".py",
   "mimetype": "text/x-python",
   "name": "python",
   "nbconvert_exporter": "python",
   "pygments_lexer": "ipython3",
   "version": "3.11.5"
  }
 },
 "nbformat": 4,
 "nbformat_minor": 4
}
